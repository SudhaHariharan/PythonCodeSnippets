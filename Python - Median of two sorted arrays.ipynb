{
 "cells": [
  {
   "cell_type": "markdown",
   "metadata": {},
   "source": [
    "There are two sorted arrays nums1 and nums2 of size m and n respectively.\n",
    "\n",
    "Find the median of the two sorted arrays. The overall run time complexity should be O(log (m+n)).\n",
    "\n",
    "You may assume nums1 and nums2 cannot be both empty.\n",
    "\n",
    "Example 1:\n",
    "\n",
    "nums1 = [1, 3]\n",
    "nums2 = [2]\n",
    "\n",
    "The median is 2.0\n",
    "Example 2:\n",
    "\n",
    "nums1 = [1, 2]\n",
    "nums2 = [3, 4]\n",
    "\n",
    "The median is (2 + 3)/2 = 2.5"
   ]
  },
  {
   "cell_type": "code",
   "execution_count": null,
   "metadata": {},
   "outputs": [],
   "source": [
    " def findMedianSortedArrays(self, nums1: List[int], nums2: List[int]) -> float:"
   ]
  },
  {
   "cell_type": "code",
   "execution_count": 9,
   "metadata": {},
   "outputs": [
    {
     "name": "stdout",
     "output_type": "stream",
     "text": [
      "[1, 2, 3]\n"
     ]
    }
   ],
   "source": [
    "#Brute force\n",
    "#combine the two sorted arrays, sort them and compute median\n",
    "\n",
    "\n",
    "\n"
   ]
  },
  {
   "cell_type": "code",
   "execution_count": 12,
   "metadata": {},
   "outputs": [],
   "source": [
    "def median(lst):\n",
    "    n = len(lst)\n",
    "    if n < 1:\n",
    "        return None\n",
    "    if n % 2 == 1:\n",
    "        return sorted(lst)[n//2]\n",
    "    else:\n",
    "        return sum(sorted(lst)[n//2-1:n//2+1])/2.0"
   ]
  },
  {
   "cell_type": "code",
   "execution_count": 17,
   "metadata": {},
   "outputs": [],
   "source": [
    "def find_median(nums1,nums2):\n",
    "    new_arr = (nums1 + nums2)\n",
    "    new_arr.sort()\n",
    "    return median(new_arr)"
   ]
  },
  {
   "cell_type": "code",
   "execution_count": 19,
   "metadata": {},
   "outputs": [
    {
     "data": {
      "text/plain": [
       "3.0"
      ]
     },
     "execution_count": 19,
     "metadata": {},
     "output_type": "execute_result"
    }
   ],
   "source": [
    "nums1 = [1, 3]\n",
    "nums2 = [3,4]\n",
    "find_median(nums1,nums2)"
   ]
  },
  {
   "cell_type": "code",
   "execution_count": null,
   "metadata": {},
   "outputs": [],
   "source": [
    "#Wrapping in one function\n",
    "def findMedianSortedArrays(self, nums1: List[int], nums2: List[int]) -> float:\n",
    "        new_arr = (nums1 + nums2)\n",
    "        new_arr.sort()\n",
    "       \n",
    "        lst = new_arr\n",
    "        median = 0.0\n",
    "        n = len(lst)\n",
    "        if n < 1:\n",
    "            median = None\n",
    "        if n % 2 == 1:\n",
    "            median = sorted(lst)[n//2]\n",
    "        else:\n",
    "            median = sum(sorted(lst)[n//2-1:n//2+1])/2.0\n",
    "        \n",
    "        return float(median)"
   ]
  }
 ],
 "metadata": {
  "kernelspec": {
   "display_name": "Python 3",
   "language": "python",
   "name": "python3"
  },
  "language_info": {
   "codemirror_mode": {
    "name": "ipython",
    "version": 3
   },
   "file_extension": ".py",
   "mimetype": "text/x-python",
   "name": "python",
   "nbconvert_exporter": "python",
   "pygments_lexer": "ipython3",
   "version": "3.6.7"
  }
 },
 "nbformat": 4,
 "nbformat_minor": 2
}
