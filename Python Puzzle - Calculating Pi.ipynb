{
 "cells": [
  {
   "cell_type": "markdown",
   "metadata": {},
   "source": [
    "The forumula for pi can be one of many. It posits that the convergence of the following infinite series is equal to pi (Leibniz formula)\n",
    "\n",
    "π = 4/1 - 4/3 + 4/5 - 4/7 + 4/9 - 4/11...\n",
    "\n",
    "Here numerator remains 4 but denominator is increased by 2 (starts at 1).The operation can be represented as either -1 or 1\n",
    "based on whether we are adding or subtracting."
   ]
  },
  {
   "cell_type": "code",
   "execution_count": 3,
   "metadata": {},
   "outputs": [],
   "source": [
    "def calculate_pi(n_terms:int) -> float:\n",
    "    numerator:float = 4.0\n",
    "    denominator:float = 1.0\n",
    "    operation:float = 1.0\n",
    "    pi:float = 0.0\n",
    "    for _ in range(n_terms):\n",
    "        pi += operation*(numerator/denominator)\n",
    "        denominator+=2.0\n",
    "        operation *= -1.0\n",
    "    return pi"
   ]
  },
  {
   "cell_type": "code",
   "execution_count": 4,
   "metadata": {},
   "outputs": [
    {
     "name": "stdout",
     "output_type": "stream",
     "text": [
      "3.1415916535897743\n"
     ]
    }
   ],
   "source": [
    "print(calculate_pi(1000000))"
   ]
  },
  {
   "cell_type": "code",
   "execution_count": null,
   "metadata": {},
   "outputs": [],
   "source": []
  }
 ],
 "metadata": {
  "kernelspec": {
   "display_name": "Python 3",
   "language": "python",
   "name": "python3"
  },
  "language_info": {
   "codemirror_mode": {
    "name": "ipython",
    "version": 3
   },
   "file_extension": ".py",
   "mimetype": "text/x-python",
   "name": "python",
   "nbconvert_exporter": "python",
   "pygments_lexer": "ipython3",
   "version": "3.6.7"
  }
 },
 "nbformat": 4,
 "nbformat_minor": 2
}
