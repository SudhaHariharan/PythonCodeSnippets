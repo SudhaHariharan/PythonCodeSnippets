{
 "cells": [
  {
   "cell_type": "markdown",
   "metadata": {},
   "source": [
    "Binary Search divides a range of values into halves, and continoues to narrow down the field of search until the unknown value is found. (divide an conquer algorithm)\n",
    "\n",
    "As an analogy, consider the children's game \"guess a number.\" The scorer has a secret number, and will only tell the player if their guessed number is higher than, lower than, or equal to the secret number. The player then uses this information to guess a new number.\n",
    "\n",
    "As the player, an optimal strategy for the general case is to start by choosing the range's midpoint as the guess, and then asking whether the guess was higher, lower, or equal to the secret number. If the guess was too high, one would select the point exactly between the range midpoint and the beginning of the range. If the original guess was too low, one would ask about the point exactly between the range midpoint and the end of the range. This process repeats until one has reached the secret number."
   ]
  },
  {
   "cell_type": "code",
   "execution_count": 4,
   "metadata": {},
   "outputs": [],
   "source": [
    "#Recursive Implementation\n",
    "def BinarySearchRec(A,value):\n",
    "    BinarySearch_Rec(A,value,0, length(A))\n",
    "    \n",
    "def BinarySearch_Rec(A,value,low,high):\n",
    "    if high < low:\n",
    "        return - 1\n",
    "    mid = (low + high)/2\n",
    "    #to avoid integer overflow .. you can use either of these operations\n",
    "    #mid = low + ((high - low)/2);\n",
    "    #mid = (low + high) >>> 1\n",
    "    if A[mid] > value:\n",
    "        return BinarySearch_Rec(A,value, low, mid-1)\n",
    "    elif A[mid] < value:\n",
    "        return BinarySearch_Rec(A,value, mid+1, high)\n",
    "    else:\n",
    "        return mid"
   ]
  },
  {
   "cell_type": "code",
   "execution_count": 3,
   "metadata": {},
   "outputs": [],
   "source": [
    "#Iterative Implementation\n",
    "def BinarySearch_Iter(A,value):\n",
    "    low = 0\n",
    "    high = length(A)-1\n",
    "    while low <= high:        \n",
    "        mid = (low + high)/2 \n",
    "        if A[mid]>value:\n",
    "            high = mid - 1\n",
    "        elif A[mid]<value:\n",
    "            low = mid+1\n",
    "        else:\n",
    "            return mid\n",
    "    \n",
    "    return -1"
   ]
  },
  {
   "cell_type": "code",
   "execution_count": 8,
   "metadata": {},
   "outputs": [],
   "source": [
    "##Python provides Bisect module that performs binary search functions\n",
    "import bisect\n",
    "#leftmost insertion point\n",
    "from bisect import bisect_left\n",
    "def binary_search_left(a,x,low=0, high = None):\n",
    "    high = high if high is not None else len(a)\n",
    "    pos = bisect_left(a,y,low,high)\n",
    "    return(pos if pos!= high and a[pos]== x else -1)\n",
    "\n",
    "##rightmost insertion point\n",
    "#index = bisect.bisect_right(list,item)\n",
    "\n",
    "##same as bisect right\n",
    "#index = bisect.bisect(list, item) # same as bisect_right\n",
    " \n",
    "## same as above but actually insert the item into the list at the given place:\n",
    "#bisect.insort_left(list, item)\n",
    "#bisect.insort_right(list, item)\n",
    "#bisect.insort(list, item)"
   ]
  },
  {
   "cell_type": "code",
   "execution_count": null,
   "metadata": {},
   "outputs": [],
   "source": []
  }
 ],
 "metadata": {
  "kernelspec": {
   "display_name": "Python 3",
   "language": "python",
   "name": "python3"
  },
  "language_info": {
   "codemirror_mode": {
    "name": "ipython",
    "version": 3
   },
   "file_extension": ".py",
   "mimetype": "text/x-python",
   "name": "python",
   "nbconvert_exporter": "python",
   "pygments_lexer": "ipython3",
   "version": "3.6.4"
  }
 },
 "nbformat": 4,
 "nbformat_minor": 2
}
