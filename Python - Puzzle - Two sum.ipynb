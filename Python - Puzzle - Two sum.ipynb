{
 "cells": [
  {
   "cell_type": "markdown",
   "metadata": {},
   "source": [
    "You are given two non-empty linked lists representing two non-negative integers. The digits are stored in reverse order and each of their nodes contain a single digit. Add the two numbers and return it as a linked list.\n",
    "\n",
    "You may assume the two numbers do not contain any leading zero, except the number 0 itself.\n",
    "\n",
    "Example:\n",
    "\n",
    "Input: (2 -> 4 -> 3) + (5 -> 6 -> 4)\n",
    "Output: 7 -> 0 -> 8\n",
    "Explanation: 342 + 465 = 807."
   ]
  },
  {
   "cell_type": "code",
   "execution_count": 20,
   "metadata": {},
   "outputs": [
    {
     "name": "stdout",
     "output_type": "stream",
     "text": [
      "807.0\n"
     ]
    }
   ],
   "source": [
    "import math\n",
    "def addTwoNumbers(l1, l2):\n",
    "    l1sum = 0\n",
    "    l2sum = 0\n",
    "    for i in range(len(l1)+1):\n",
    "        n = len(l1)\n",
    "        if i!=0:\n",
    "            l1sum += (l1[n-i]*math.pow(10,(n-i)))\n",
    "        i+=1\n",
    "    for i in range(len(l2)+1):\n",
    "        n = len(l2)\n",
    "        if i!=0:\n",
    "            l2sum += (l2[n-i]*math.pow(10,(n-i)))\n",
    "        i+=1\n",
    "    print(l2sum + l1sum)\n",
    "\n",
    "l1 = (2,4,3)\n",
    "l2 = (5,6,4)\n",
    "addTwoNumbers(l1, l2)"
   ]
  },
  {
   "cell_type": "code",
   "execution_count": 35,
   "metadata": {},
   "outputs": [
    {
     "name": "stdout",
     "output_type": "stream",
     "text": [
      "2\n",
      "4\n",
      "3\n"
     ]
    }
   ],
   "source": [
    "class ListNode:\n",
    "     def __init__(self, x):\n",
    "         self.val = x\n",
    "         self.next = None\n",
    "\n",
    "def reverse(node):\n",
    "    if not node.nxt:\n",
    "        print(node.val)\n",
    "        return \n",
    "    reverce(node.nxt)\n",
    "    print(node.val)\n",
    "\n",
    "def traverse(self):\n",
    "    node = self # start from the head node\n",
    "    while node != None:\n",
    "        print(node.val) # access the node value\n",
    "        node = node.next # move on to the next node\n",
    "\n",
    "node1 = ListNode(2) \n",
    "node2 = ListNode(4) \n",
    "node3 = ListNode(3) \n",
    "\n",
    "node1.next = node2 # 12->99\n",
    "node2.next = node3 # 99->37\n",
    "\n",
    "traverse(node1)"
   ]
  },
  {
   "cell_type": "code",
   "execution_count": 36,
   "metadata": {},
   "outputs": [],
   "source": [
    "def addTwoNumbers(self, l1, l2):\n",
    "        head = temp = ListNode(0)\n",
    "        carry = 0\n",
    "\n",
    "        while l1 or l2 or carry:\n",
    "            temp1 = l1.val if l1 else 0\n",
    "            temp2 = l2.val if l2 else 0\n",
    "            tempSum = temp1 + temp2 + carry\n",
    "            \n",
    "            temp.next = ListNode(tempSum % 10)\n",
    "            temp = temp.next\n",
    "            carry = tempSum // 10\n",
    "\n",
    "            if l1:\n",
    "                l1 = l1.next\n",
    "            if l2:\n",
    "                l2 = l2.next\n",
    "\n",
    "        return head.next"
   ]
  },
  {
   "cell_type": "code",
   "execution_count": null,
   "metadata": {},
   "outputs": [],
   "source": []
  }
 ],
 "metadata": {
  "kernelspec": {
   "display_name": "Python 3",
   "language": "python",
   "name": "python3"
  },
  "language_info": {
   "codemirror_mode": {
    "name": "ipython",
    "version": 3
   },
   "file_extension": ".py",
   "mimetype": "text/x-python",
   "name": "python",
   "nbconvert_exporter": "python",
   "pygments_lexer": "ipython3",
   "version": "3.6.4"
  }
 },
 "nbformat": 4,
 "nbformat_minor": 2
}
