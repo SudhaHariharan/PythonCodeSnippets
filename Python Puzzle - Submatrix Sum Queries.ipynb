{
 "cells": [
  {
   "cell_type": "markdown",
   "metadata": {},
   "source": [
    "Given a matrix of size M x N, there are large number of queries to find submatrix sums. Inputs to queries are left top and right bottom indexes of submatrix whose sum is to find out.\n",
    "\n",
    "How to preprocess the matrix so that submatrix sum queries can be performed in O(1) time.\n",
    "\n",
    "Given a matrix of size M x N, there are large number of queries to find submatrix sums. Inputs to queries are left top and right bottom indexes of submatrix whose sum is to find out.\n",
    "\n",
    "How to preprocess the matrix so that submatrix sum queries can be performed in O(1) time.\n",
    "##### Example\n",
    "tli :  Row number of top left of query submatrix\n",
    "tlj :  Column number of top left of query submatrix\n",
    "rbi :  Row number of bottom right of query submatrix\n",
    "rbj :  Column number of bottom right of query submatrix\n",
    "\n",
    "Input: mat[M][N] = {{1, 2, 3, 4, 6},\n",
    "                    {5, 3, 8, 1, 2},\n",
    "                    {4, 6, 7, 5, 5},\n",
    "                    {2, 4, 8, 9, 4} };\n",
    "Query1: tli = 0, tlj = 0, rbi = 1, rbj = 1\n",
    "Query2: tli = 2, tlj = 2, rbi = 3, rbj = 4\n",
    "Query3: tli = 1, tlj = 2, rbi = 3, rbj = 3;\n",
    "\n",
    "Output:\n",
    "Query1: 11  // Sum between (0, 0) and (1, 1)\n",
    "Query2: 38  // Sum between (2, 2) and (3, 4)\n",
    "Query3: 38  // Sum between (1, 2) and (3, 3)\n",
    "\n",
    "Solution: Explanation https://www.youtube.com/watch?v=-d8KbQVx-mM\n"
   ]
  },
  {
   "cell_type": "code",
   "execution_count": 14,
   "metadata": {},
   "outputs": [],
   "source": [
    "def preProcess(mat, aux,M,N): \n",
    "      \n",
    "    # Copy first row of mat[][] to aux[][] \n",
    "    for i in range(0, N, 1): \n",
    "        aux[0][i] = mat[0][i] \n",
    "  \n",
    "    # Do column wise sum \n",
    "    for i in range(1, M, 1): \n",
    "        for j in range(0, N, 1): \n",
    "            aux[i][j] = mat[i][j] + aux[i - 1][j] \n",
    "  \n",
    "    # Do row wise sum \n",
    "    for i in range(0, M, 1): \n",
    "        for j in range(1, N, 1): \n",
    "            aux[i][j] += aux[i][j - 1] \n",
    "    "
   ]
  },
  {
   "cell_type": "code",
   "execution_count": 12,
   "metadata": {},
   "outputs": [],
   "source": [
    "#compute sum of submatrix \n",
    "# between (tli, tlj) and (rbi, rbj) using aux[][] \n",
    "# which is built by the preprocess function \n",
    "def sumQuery(aux,tli,tlj,rbi,rbj):\n",
    "    # result is now sum of elements  \n",
    "    # between (0, 0) and (rbi, rbj) \n",
    "    res = aux[rbi][rbj] \n",
    "  \n",
    "    # Remove elements between (0, 0) \n",
    "    # and (tli-1, rbj) \n",
    "    if (tli > 0): \n",
    "        res = res - aux[tli - 1][rbj] \n",
    "  \n",
    "    # Remove elements between (0, 0) \n",
    "    # and (rbi, tlj-1) \n",
    "    if (tlj > 0): \n",
    "        res = res - aux[rbi][tlj - 1] \n",
    "  \n",
    "    # Add aux[tli-1][tlj-1] as elements \n",
    "    # between (0, 0) and (tli-1, tlj-1) \n",
    "    # are subtracted twice \n",
    "    if (tli > 0 and tlj > 0): \n",
    "        res = res + aux[tli - 1][tlj - 1] \n",
    "  \n",
    "    return res "
   ]
  },
  {
   "cell_type": "code",
   "execution_count": 15,
   "metadata": {},
   "outputs": [
    {
     "name": "stdout",
     "output_type": "stream",
     "text": [
      "Query1: 38\n",
      "Query2: 11\n",
      "Query3: 38\n"
     ]
    }
   ],
   "source": [
    "if __name__ == '__main__': \n",
    "    matrix = [[1, 2, 3, 4, 6], \n",
    "           [5, 3, 8, 1, 2], \n",
    "           [4, 6, 7, 5, 5], \n",
    "           [2, 4, 8, 9, 4]] \n",
    "\n",
    "    M = 4\n",
    "    N = 5 \n",
    "    aux = [[0 for i in range(N)]  \n",
    "              for j in range(M)] \n",
    "\n",
    "    preProcess(matrix, aux, M, N) \n",
    "\n",
    "    tli = 2\n",
    "    tlj = 2\n",
    "    rbi = 3\n",
    "    rbj = 4\n",
    "    print(\"Query1:\", sumQuery(aux, tli, tlj, rbi, rbj)) \n",
    "\n",
    "    tli = 0\n",
    "    tlj = 0\n",
    "    rbi = 1\n",
    "    rbj = 1\n",
    "    print(\"Query2:\", sumQuery(aux, tli, tlj, rbi, rbj)) \n",
    "\n",
    "    tli = 1\n",
    "    tlj = 2\n",
    "    rbi = 3\n",
    "    rbj = 3\n",
    "    print(\"Query3:\", sumQuery(aux, tli, tlj, rbi, rbj)) "
   ]
  },
  {
   "cell_type": "code",
   "execution_count": null,
   "metadata": {},
   "outputs": [],
   "source": []
  }
 ],
 "metadata": {
  "kernelspec": {
   "display_name": "Python 3",
   "language": "python",
   "name": "python3"
  },
  "language_info": {
   "codemirror_mode": {
    "name": "ipython",
    "version": 3
   },
   "file_extension": ".py",
   "mimetype": "text/x-python",
   "name": "python",
   "nbconvert_exporter": "python",
   "pygments_lexer": "ipython3",
   "version": "3.6.7"
  }
 },
 "nbformat": 4,
 "nbformat_minor": 2
}
