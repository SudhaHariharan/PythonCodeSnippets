{
 "cells": [
  {
   "cell_type": "markdown",
   "metadata": {},
   "source": [
    "can you find a prime of the form pᵖ+2 where p is prime, apart from 29?"
   ]
  },
  {
   "cell_type": "code",
   "execution_count": 5,
   "metadata": {},
   "outputs": [
    {
     "data": {
      "text/plain": [
       "9"
      ]
     },
     "execution_count": 5,
     "metadata": {},
     "output_type": "execute_result"
    }
   ],
   "source": [
    "3**2"
   ]
  },
  {
   "cell_type": "code",
   "execution_count": 43,
   "metadata": {},
   "outputs": [],
   "source": [
    "from math import sqrt\n",
    "from itertools import count, islice\n",
    "\n",
    "def isPrime(n):\n",
    "    if n < 2:\n",
    "        return False\n",
    "\n",
    "    for number in islice(count(2), int(sqrt(n) - 1)):\n",
    "        if n % number == 0:\n",
    "            return False\n",
    "\n",
    "    return True"
   ]
  },
  {
   "cell_type": "code",
   "execution_count": 60,
   "metadata": {},
   "outputs": [],
   "source": [
    "#Use miller rabin primality test for large numbers\n",
    "\n",
    "import random\n",
    " \n",
    "def is_Prime(n):\n",
    "    \"\"\"\n",
    "    Miller-Rabin primality test.\n",
    " \n",
    "    A return value of False means n is certainly not prime. A return value of\n",
    "    True means n is very likely a prime.\n",
    "    \"\"\"\n",
    "    if n!=int(n):\n",
    "        return False\n",
    "    n=int(n)\n",
    "    #Miller-Rabin test for prime\n",
    "    if n==0 or n==1 or n==4 or n==6 or n==8 or n==9:\n",
    "        return False\n",
    " \n",
    "    if n==2 or n==3 or n==5 or n==7:\n",
    "        return True\n",
    "    s = 0\n",
    "    d = n-1\n",
    "    while d%2==0:\n",
    "        d>>=1\n",
    "        s+=1\n",
    "    assert(2**s * d == n-1)\n",
    " \n",
    "    def trial_composite(a):\n",
    "        if pow(a, d, n) == 1:\n",
    "            return False\n",
    "        for i in range(s):\n",
    "            if pow(a, 2**i * d, n) == n-1:\n",
    "                return False\n",
    "        return True  \n",
    " \n",
    "    for i in range(8):#number of trials \n",
    "        a = random.randrange(2, n)\n",
    "        if trial_composite(a):\n",
    "            return False\n",
    " \n",
    "    return True  "
   ]
  },
  {
   "cell_type": "code",
   "execution_count": 47,
   "metadata": {},
   "outputs": [
    {
     "data": {
      "text/plain": [
       "True"
      ]
     },
     "execution_count": 47,
     "metadata": {},
     "output_type": "execute_result"
    }
   ],
   "source": [
    "isPrime(29)"
   ]
  },
  {
   "cell_type": "code",
   "execution_count": 65,
   "metadata": {},
   "outputs": [],
   "source": [
    "def find_p():\n",
    "    for i in range(1,1000):\n",
    "        check = (i**i) + 2\n",
    "        if(check!=29 and check!=3 and is_Prime(check)):\n",
    "            print(i,check)\n",
    "                              "
   ]
  },
  {
   "cell_type": "code",
   "execution_count": 66,
   "metadata": {},
   "outputs": [
    {
     "name": "stdout",
     "output_type": "stream",
     "text": [
      "737 21063888738615155808469499197059143389682188225777316070755209705269288953532026739311836259035925528148828019872369664616853850137007830406925782115319019853392860565139312426394470538599090267538944941805973828207287548409827987506935160557711823844840409827228411792243000061463756061751452088568754948732870127298494821849686394496834877369464199368096306337826463946329622390318160413984870884694599190842733252447838974273316355129012013521862103864946468002961279174181714477270871524817847726873056188356134600160451280378369144826901661716798264270068495157466024492880887546192301728342901419997735858171075283489553968769060177293664110976631478232590971017143127972022465451583099939867524407404089054981903002503396035191631979639350118010694234894219716737433464323166594726914642334531054446592736823040157969136516331075894853549513643659928030138299284833848100664824517585403996018631116783766981230882668013117203944571436433755873856538579541597735101814051695142031634063039440352289863361940742688426858529981069406767019001421646764300012367867250229878661747111607837715766868391554750826737412341247748923751739968992640187688136998929359885157061164996124476258978092746393738320263235743984302897543934911866238638259321865096915737117247270744745956343448966249278312858528518514157061093916762518598983460249397951600558297840201554237742406745358226454266483820763833118505208973876639966764792950313657797570973428487222864006334252071354173410286007015441418507175773171838861137811762502179104197065621938389669429551282713269775206648719316852940545894805800451541541975278431178370076367306785585350550228427023740698371557085477344714570050529313206135278195648736159510557267822259707425362895874979872502062642635058125151463548949825407701647214445105642900056314547974275701570012989138938931501081650095706587259418386586418754706651279325235412180448381316400648611063178001691865207373449218382595486553212832765880467938313479738372545041785069723360360153438484489640610730318947157244385839800047002827774068008216790597700806597946977385340635872510831584535612360419\n"
     ]
    }
   ],
   "source": [
    "find_p()"
   ]
  },
  {
   "cell_type": "code",
   "execution_count": null,
   "metadata": {},
   "outputs": [],
   "source": []
  },
  {
   "cell_type": "code",
   "execution_count": null,
   "metadata": {},
   "outputs": [],
   "source": []
  }
 ],
 "metadata": {
  "kernelspec": {
   "display_name": "Python 3",
   "language": "python",
   "name": "python3"
  },
  "language_info": {
   "codemirror_mode": {
    "name": "ipython",
    "version": 3
   },
   "file_extension": ".py",
   "mimetype": "text/x-python",
   "name": "python",
   "nbconvert_exporter": "python",
   "pygments_lexer": "ipython3",
   "version": "3.6.7"
  }
 },
 "nbformat": 4,
 "nbformat_minor": 2
}
