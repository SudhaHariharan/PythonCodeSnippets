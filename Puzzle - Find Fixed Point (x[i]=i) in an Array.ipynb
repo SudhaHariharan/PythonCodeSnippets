{
 "cells": [
  {
   "cell_type": "markdown",
   "metadata": {},
   "source": [
    "Problem:\n",
    "\n",
    "Given an array of size n, x[0 .. n-1] of integers sorted into ascending order with no duplicates, find an array item that is also its index, so that x[i] = i.\n",
    "\n",
    "For example, x[3] = 3 in the array shown below:\n",
    "\n",
    "i           0 1 2 3 4 5\n",
    "x[i]     -3 0 1 3 5 7\n",
    "\n",
    "Your task is to write a program that finds i."
   ]
  },
  {
   "cell_type": "code",
   "execution_count": 1,
   "metadata": {},
   "outputs": [],
   "source": [
    "#Based on binary search\n",
    "def fixpoint(a,n):    \n",
    "    mid = n/2;\n",
    "    if n==1:\n",
    "        return 0\n",
    "    elif a[mid]<mid:\n",
    "        return mid + fixpoint(a+mid+1,n-mid-1)\n",
    "    else:\n",
    "        return fixpoint(a,n-mid)\n",
    "    \n",
    "    \n"
   ]
  },
  {
   "cell_type": "code",
   "execution_count": null,
   "metadata": {},
   "outputs": [],
   "source": []
  }
 ],
 "metadata": {
  "kernelspec": {
   "display_name": "Python 3",
   "language": "python",
   "name": "python3"
  },
  "language_info": {
   "codemirror_mode": {
    "name": "ipython",
    "version": 3
   },
   "file_extension": ".py",
   "mimetype": "text/x-python",
   "name": "python",
   "nbconvert_exporter": "python",
   "pygments_lexer": "ipython3",
   "version": "3.6.4"
  }
 },
 "nbformat": 4,
 "nbformat_minor": 2
}
