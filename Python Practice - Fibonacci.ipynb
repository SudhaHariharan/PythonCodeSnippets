{
 "cells": [
  {
   "cell_type": "markdown",
   "metadata": {},
   "source": [
    "##### Reference: Classic Computer science Problems in Python . Chapter 1\n",
    "\n",
    "The fibonacci sequence is a sequence of numbers such that any except for the first and second, is the sum of the previous two: \n",
    "\n",
    "0,1,1,2,3,4,5,13,21...\n",
    "\n",
    "The formula for fibonacci is\n",
    "\n",
    "fib(n) = fib(n-1) + fib(n-2)\n",
    "\n",
    "#### Recursive approach"
   ]
  },
  {
   "cell_type": "code",
   "execution_count": 3,
   "metadata": {},
   "outputs": [],
   "source": [
    "#Recursive attempt\n",
    "\n",
    "def fib_rec(n:int) -> int:\n",
    "    if n < 2:\n",
    "        return n\n",
    "    return fib_rec(n - 1) + fib_rec(n-2)"
   ]
  },
  {
   "cell_type": "code",
   "execution_count": 6,
   "metadata": {},
   "outputs": [
    {
     "name": "stdout",
     "output_type": "stream",
     "text": [
      "5\n",
      "55\n"
     ]
    }
   ],
   "source": [
    "print(fib_rec(5))\n",
    "print(fib_rec(10))"
   ]
  },
  {
   "cell_type": "markdown",
   "metadata": {},
   "source": [
    "#### Memoization\n",
    "If we call fib_rec(50) it will never finish executing. This is because every call to fib_rec() results in two more calls to fib_rec(). The call tree grows exponentially.\n",
    "\n",
    "We could use *Memoization* for this purpose. Memoization is a technique in which you store the results of computational tasks when they are completed, so that when you need them again, you can look them up instead of needing to compute them"
   ]
  },
  {
   "cell_type": "code",
   "execution_count": 7,
   "metadata": {},
   "outputs": [],
   "source": [
    "from typing import Dict\n",
    "memo: Dict[int,int] = {0:0,1:1} #base cases\n",
    "\n",
    "def fib_memo(n:int) -> int:\n",
    "    if n not in memo:\n",
    "        memo[n] = fib_memo(n-1) + fib_memo(n - 2)\n",
    "    return memo[n]"
   ]
  },
  {
   "cell_type": "code",
   "execution_count": 8,
   "metadata": {},
   "outputs": [
    {
     "name": "stdout",
     "output_type": "stream",
     "text": [
      "5\n",
      "12586269025\n"
     ]
    }
   ],
   "source": [
    "print(fib_memo(5))\n",
    "print(fib_memo(50))"
   ]
  },
  {
   "cell_type": "markdown",
   "metadata": {},
   "source": [
    "fib_memo(20) will result in just 39 calls as opposed to 21,891 calls of fib_rec. memo is prefilled with the earlier base cases of 0 and 1, saving fib_memo() from the complexity of another if statement\n",
    "\n",
    "#### Automatic Memoization\n",
    "Python has a built-in decorator for memoizing any function automaticalls. The decorator @functools.lru_cache() is used with the same exact code as we used in fib_rec()each time fib_automemo() is executed with a novel argument, the decorator causes the return value to be cached. Upon further repeat calls with the same argument, the previous return value for that argument is retrieved from the cache and returned"
   ]
  },
  {
   "cell_type": "code",
   "execution_count": 9,
   "metadata": {},
   "outputs": [],
   "source": [
    "from functools import lru_cache\n",
    "\n",
    "@lru_cache(maxsize=None)\n",
    "def fib_automemo(n:int)->int:\n",
    "    if n < 2:\n",
    "        return n\n",
    "    return fib_automemo(n - 1) + fib_automemo(n-2)\n"
   ]
  },
  {
   "cell_type": "code",
   "execution_count": 10,
   "metadata": {},
   "outputs": [
    {
     "name": "stdout",
     "output_type": "stream",
     "text": [
      "5\n",
      "12586269025\n"
     ]
    }
   ],
   "source": [
    "print(fib_automemo(5))\n",
    "print(fib_automemo(50))"
   ]
  },
  {
   "cell_type": "markdown",
   "metadata": {},
   "source": [
    "@lru_cache 's maxsize property indicates how many of the most recent calls of the function it is decorating should be cached. Setting it to None, indicates that there is no limit. \n",
    "\n",
    "#### Iterative Approach\n"
   ]
  },
  {
   "cell_type": "code",
   "execution_count": 13,
   "metadata": {},
   "outputs": [],
   "source": [
    "def fib_iter(n: int) -> int:\n",
    "    if n == 0: return n # special case\n",
    "    last: int = 0 # initially set to fib(0)\n",
    "    next: int = 1 # initially set to fib(1)\n",
    "    for _ in range(1, n):\n",
    "        last, next = next, last + next\n",
    "    return next\n"
   ]
  },
  {
   "cell_type": "code",
   "execution_count": 14,
   "metadata": {},
   "outputs": [
    {
     "name": "stdout",
     "output_type": "stream",
     "text": [
      "5\n",
      "12586269025\n"
     ]
    }
   ],
   "source": [
    "print(fib_iter(5))\n",
    "print(fib_iter(50))"
   ]
  },
  {
   "cell_type": "markdown",
   "metadata": {},
   "source": [
    "With this apporach, the body of the for loop will run only a maximum of n-1. This this is the most efficient approach so far. \n",
    "\n",
    "#### Fibonacci with a generator\n",
    "let us say we want to output the entire sequence up to some value. We can convert the above into a Python generator using the yield statement. When the generator is iterated, each iteration will return a value from the Fibonacci sequence using a yield statement. "
   ]
  },
  {
   "cell_type": "code",
   "execution_count": 34,
   "metadata": {},
   "outputs": [],
   "source": [
    "from typing import Generator\n",
    "\n",
    "def fib_gen(n:int) -> Generator[int, None, None]: \n",
    "    yield 0 # special case\n",
    "    if n > 0: yield 1 # special case\n",
    "    last: int = 0 # initially set to fib(0)\n",
    "    next: int = 1 # initially set to fib(1)\n",
    "    for _ in range(1, n):\n",
    "        last, next = next, last + next\n",
    "        yield next # main generation step"
   ]
  },
  {
   "cell_type": "code",
   "execution_count": 35,
   "metadata": {},
   "outputs": [
    {
     "name": "stdout",
     "output_type": "stream",
     "text": [
      "0\n",
      "1\n",
      "1\n",
      "2\n",
      "3\n",
      "5\n",
      "8\n",
      "13\n",
      "21\n",
      "34\n",
      "55\n",
      "89\n",
      "144\n",
      "233\n",
      "377\n",
      "610\n",
      "987\n",
      "1597\n",
      "2584\n",
      "4181\n",
      "6765\n",
      "10946\n",
      "17711\n",
      "28657\n",
      "46368\n",
      "75025\n",
      "121393\n",
      "196418\n",
      "317811\n",
      "514229\n",
      "832040\n",
      "1346269\n",
      "2178309\n",
      "3524578\n",
      "5702887\n",
      "9227465\n",
      "14930352\n",
      "24157817\n",
      "39088169\n",
      "63245986\n",
      "102334155\n",
      "165580141\n",
      "267914296\n",
      "433494437\n",
      "701408733\n",
      "1134903170\n",
      "1836311903\n",
      "2971215073\n",
      "4807526976\n",
      "7778742049\n",
      "12586269025\n"
     ]
    }
   ],
   "source": [
    "for i in fib_gen(50):\n",
    "    print(i)"
   ]
  },
  {
   "cell_type": "code",
   "execution_count": null,
   "metadata": {},
   "outputs": [],
   "source": []
  }
 ],
 "metadata": {
  "kernelspec": {
   "display_name": "Python 3",
   "language": "python",
   "name": "python3"
  },
  "language_info": {
   "codemirror_mode": {
    "name": "ipython",
    "version": 3
   },
   "file_extension": ".py",
   "mimetype": "text/x-python",
   "name": "python",
   "nbconvert_exporter": "python",
   "pygments_lexer": "ipython3",
   "version": "3.6.7"
  }
 },
 "nbformat": 4,
 "nbformat_minor": 2
}
