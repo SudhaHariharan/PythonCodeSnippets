{
 "cells": [
  {
   "cell_type": "markdown",
   "metadata": {},
   "source": [
    "Given a collection of distinct integers, return all possible permutations.\n",
    "Example:\n",
    "\n",
    "Input: [1,2,3]\n",
    "\n",
    "Output:\n",
    "[\n",
    "  [1,2,3],\n",
    "  [1,3,2],\n",
    "  [2,1,3],\n",
    "  [2,3,1],\n",
    "  [3,1,2],\n",
    "  [3,2,1]\n",
    "]"
   ]
  },
  {
   "cell_type": "markdown",
   "metadata": {},
   "source": [
    "Solution:\n",
    "\n",
    "Aproach 1:\n",
    "Backtracking is an algorithm for finding all solutions by exploring all potential candidates. If the solution candidate turns to be not a solution (or at least not the last one), backtracking algorithm discards it by making some changes on the previous step, i.e. backtracks and then try again.\n",
    "\n",
    "Here is a backtrack function which takes the index of the first integer to consider as an argument backtrack(first).\n",
    "\n",
    "If the first integer to consider has index n that means that the current permutation is done.\n",
    "Iterate over the integers from index first to index n - 1.\n",
    "Place i-th integer first in the permutation, i.e. swap(nums[first], nums[i]).\n",
    "Proceed to create all permutations which starts from i-th integer : backtrack(first + 1).\n",
    "Now backtrack, i.e. swap(nums[first], nums[i]) back."
   ]
  },
  {
   "cell_type": "code",
   "execution_count": 9,
   "metadata": {},
   "outputs": [],
   "source": [
    "def perm(nums):\n",
    "    def backtrack(first = 0):\n",
    "        \n",
    "        if first == n:\n",
    "            output.append(nums[:])\n",
    "        for i in range(first, n):\n",
    "            #place ith integer first in the current permutation\n",
    "            nums[first], nums[i]= nums[i],nums[first]\n",
    "            backtrack(first+1)\n",
    "            #backtrack\n",
    "            nums[first], nums[i] = nums[i], nums[first]\n",
    "    \n",
    "    n = len(nums)\n",
    "    output = []\n",
    "    backtrack()\n",
    "    print(output)\n",
    "    return backtrack"
   ]
  },
  {
   "cell_type": "code",
   "execution_count": 10,
   "metadata": {},
   "outputs": [
    {
     "name": "stdout",
     "output_type": "stream",
     "text": [
      "[[1, 2, 3], [1, 3, 2], [2, 1, 3], [2, 3, 1], [3, 2, 1], [3, 1, 2]]\n"
     ]
    },
    {
     "data": {
      "text/plain": [
       "<function __main__.perm.<locals>.backtrack>"
      ]
     },
     "execution_count": 10,
     "metadata": {},
     "output_type": "execute_result"
    }
   ],
   "source": [
    "arr = [1,2,3]\n",
    "perm(arr)"
   ]
  },
  {
   "cell_type": "code",
   "execution_count": 11,
   "metadata": {},
   "outputs": [
    {
     "data": {
      "text/plain": [
       "[(1, 2, 3), (1, 3, 2), (2, 1, 3), (2, 3, 1), (3, 1, 2), (3, 2, 1)]"
      ]
     },
     "execution_count": 11,
     "metadata": {},
     "output_type": "execute_result"
    }
   ],
   "source": [
    "#Based on itertools\n",
    "import itertools\n",
    "list(itertools.permutations(arr))"
   ]
  },
  {
   "cell_type": "code",
   "execution_count": 15,
   "metadata": {},
   "outputs": [],
   "source": [
    "#As implemented in itertools\n",
    "def all_perms(elements):\n",
    "    if len(elements) <=1:\n",
    "        yield elements\n",
    "    else:\n",
    "        for perm in all_perms(elements[1:]):\n",
    "            for i in range(len(elements)):\n",
    "                # nb elements[0:1] works in both string and list contexts\n",
    "                yield perm[:i] + elements[0:1] + perm[i:]\n",
    "   "
   ]
  },
  {
   "cell_type": "code",
   "execution_count": 17,
   "metadata": {},
   "outputs": [
    {
     "data": {
      "text/plain": [
       "<generator object all_perms at 0x0000028F58B8E7D8>"
      ]
     },
     "execution_count": 17,
     "metadata": {},
     "output_type": "execute_result"
    }
   ],
   "source": []
  },
  {
   "cell_type": "code",
   "execution_count": null,
   "metadata": {},
   "outputs": [],
   "source": []
  }
 ],
 "metadata": {
  "kernelspec": {
   "display_name": "Python 3",
   "language": "python",
   "name": "python3"
  },
  "language_info": {
   "codemirror_mode": {
    "name": "ipython",
    "version": 3
   },
   "file_extension": ".py",
   "mimetype": "text/x-python",
   "name": "python",
   "nbconvert_exporter": "python",
   "pygments_lexer": "ipython3",
   "version": "3.6.4"
  }
 },
 "nbformat": 4,
 "nbformat_minor": 2
}
