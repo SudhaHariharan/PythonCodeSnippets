{
 "cells": [
  {
   "cell_type": "markdown",
   "metadata": {},
   "source": [
    "The Baum–Sweet sequence is an infinite automatic sequence of 0s and 1s defined by the rule:\n",
    "\n",
    "bn = 1 if the binary representation of n contains no block of consecutive 0s of odd length;\n",
    "bn = 0 otherwise;\n",
    "\n",
    "for n ≥ 0.\n",
    "\n",
    "Define a generator function baum_sweet that sequentially generates the values of this sequence.\n",
    "\n",
    "It will be tested for up to 1 000 000 values.\n",
    "\n",
    "Note that the binary representation of 0 used here is not 0 but the empty string ( which does not contain any blocks of consecutive 0s )."
   ]
  },
  {
   "cell_type": "code",
   "execution_count": null,
   "metadata": {},
   "outputs": [],
   "source": []
  }
 ],
 "metadata": {
  "kernelspec": {
   "display_name": "Python 3",
   "language": "python",
   "name": "python3"
  },
  "language_info": {
   "codemirror_mode": {
    "name": "ipython",
    "version": 3
   },
   "file_extension": ".py",
   "mimetype": "text/x-python",
   "name": "python",
   "nbconvert_exporter": "python",
   "pygments_lexer": "ipython3",
   "version": "3.6.7"
  }
 },
 "nbformat": 4,
 "nbformat_minor": 2
}
