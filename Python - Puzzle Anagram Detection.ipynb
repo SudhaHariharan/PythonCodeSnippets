{
 "cells": [
  {
   "cell_type": "markdown",
   "metadata": {},
   "source": [
    "Given two strings, determine if they are anagrams of each other. \n",
    "For example, 'python' and 'typhon' are anagrams (letters of the second word are a rearrangement of the letters of the first word)"
   ]
  },
  {
   "cell_type": "code",
   "execution_count": 2,
   "metadata": {},
   "outputs": [],
   "source": [
    "'''\n",
    "Solution 1 : Check the lengths of the strings and then check to see that each\n",
    "character in the first string actually occurs in the string. \n",
    "'''\n",
    "\n",
    "def anagram_detector_1(s1,s2):\n",
    "    result = True\n",
    "    if(len(s1)!=len(s2)):\n",
    "        result = False\n",
    "    \n",
    "    #Since strings in Python are immutable, the second string must be converted to a list \n",
    "    s2_list = list(s2)\n",
    "    pos1 = 0\n",
    "    \n",
    "    while pos1 < len(s1) and result:\n",
    "        pos2 = 0\n",
    "        found = False\n",
    "        while pos2 <len(s2_list) and not found:\n",
    "            if (s1[pos1] == s2_list[pos2]):\n",
    "                found = True\n",
    "            else:\n",
    "                pos2 += 1 \n",
    "        \n",
    "        if(found):\n",
    "            #Replace all the characters found with None as a way of 'checking off' each character\n",
    "            s2_list[pos2] = None\n",
    "        else:\n",
    "            result = False\n",
    "        \n",
    "        pos1 += 1\n",
    "    \n",
    "    return result\n",
    "            "
   ]
  },
  {
   "cell_type": "code",
   "execution_count": 6,
   "metadata": {},
   "outputs": [
    {
     "name": "stdout",
     "output_type": "stream",
     "text": [
      "True\n"
     ]
    }
   ],
   "source": [
    "print(anagram_detector_1('python','typhon'))"
   ]
  },
  {
   "cell_type": "markdown",
   "metadata": {},
   "source": [
    "The above implementation has a O(n^2)running time"
   ]
  },
  {
   "cell_type": "code",
   "execution_count": 10,
   "metadata": {},
   "outputs": [],
   "source": [
    "'''\n",
    "Solution 2: Sort the two lists and compare if the two sorted lists are the same. \n",
    "'''\n",
    "def anagram_detector_2(s1,s2):\n",
    "    s1_list = list(s1)\n",
    "    s2_list = list(s2)\n",
    "    \n",
    "    s1_list.sort()\n",
    "    s2_list.sort()\n",
    "    \n",
    "    pos = 0 \n",
    "    result = True\n",
    "    \n",
    "    while pos < len(s1) and result:\n",
    "        if(s1_list[pos]==s2_list[pos]):\n",
    "            pos += 1\n",
    "        else:\n",
    "            result = False\n",
    "    \n",
    "    return result\n"
   ]
  },
  {
   "cell_type": "code",
   "execution_count": 14,
   "metadata": {},
   "outputs": [
    {
     "name": "stdout",
     "output_type": "stream",
     "text": [
      "True\n"
     ]
    }
   ],
   "source": [
    "print(anagram_detector_2('python','typhon'))"
   ]
  },
  {
   "cell_type": "markdown",
   "metadata": {},
   "source": [
    "The above implementation has a O(n) running time. However, depending on how sorting is implemented this could be O(n^2) or O(n logn) \n"
   ]
  },
  {
   "cell_type": "code",
   "execution_count": 22,
   "metadata": {},
   "outputs": [],
   "source": [
    "'''\n",
    "Solution 3: Two anagrams will have the same number of 'a's, same number of b's \n",
    "and so on. We could the number of times each character occurs. SInce there are\n",
    "26 possible characters, we can use a list of 26 countes, one for each possible\n",
    "character. Each tiem we see a particular character, we will increment the \n",
    "counter at that position. In the end, if the two lists of counters are identical,\n",
    "the strings must be anagrams. \n",
    "\n",
    "The solution makes an assumption that two words are not anagrams if they have characters of different\n",
    "cases in them. \n",
    "'''\n",
    "\n",
    "def anagram_detector_3(s1,s2):\n",
    "    c1 = [0]*26\n",
    "    c2 = [0]*26\n",
    "    \n",
    "    #ord() returns an integer representing Unicodepoint for the given unicode character. \n",
    "    for i in range(len(s1)):\n",
    "        pos = ord(s1[i])-ord('a')\n",
    "        c1[pos] = c1[pos] + 1\n",
    "\n",
    "    for i in range(len(s2)):\n",
    "        pos = ord(s2[i])-ord('a')\n",
    "        c2[pos] = c2[pos] + 1\n",
    "    \n",
    "    j = 0\n",
    "    result = True\n",
    "    \n",
    "    while j<26 and result:\n",
    "        if( c1[j] == c2[j]):\n",
    "            j += 1\n",
    "        else:\n",
    "            result = False\n",
    "    \n",
    "    return result\n"
   ]
  },
  {
   "cell_type": "code",
   "execution_count": 25,
   "metadata": {},
   "outputs": [
    {
     "name": "stdout",
     "output_type": "stream",
     "text": [
      "False\n"
     ]
    }
   ],
   "source": [
    "print(anagram_detector_3('python','typhon'))"
   ]
  },
  {
   "cell_type": "markdown",
   "metadata": {},
   "source": [
    "The complexity of the above implementation is O(n). However, there are additional space requirements to this implementation. We have to use additional storage to keep the two lists of character counts. "
   ]
  },
  {
   "cell_type": "code",
   "execution_count": null,
   "metadata": {},
   "outputs": [],
   "source": []
  }
 ],
 "metadata": {
  "kernelspec": {
   "display_name": "Python 3",
   "language": "python",
   "name": "python3"
  },
  "language_info": {
   "codemirror_mode": {
    "name": "ipython",
    "version": 3
   },
   "file_extension": ".py",
   "mimetype": "text/x-python",
   "name": "python",
   "nbconvert_exporter": "python",
   "pygments_lexer": "ipython3",
   "version": "3.7.4"
  }
 },
 "nbformat": 4,
 "nbformat_minor": 2
}
