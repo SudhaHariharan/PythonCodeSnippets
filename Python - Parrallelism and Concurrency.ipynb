{
 "cells": [
  {
   "cell_type": "markdown",
   "metadata": {},
   "source": [
    "### Parrallelism and Concurrency in Python\n",
    "\n",
    "Parrallelism: Refers to performing multiple tasks at the same time and in same order\n",
    "\n",
    "Multiprocessing: referes to distributing tasks over CPU Cores.\n",
    "For any CPU bound tasks, we can use python's multiprocessing module. We simply create a Pool object in multiprocessing which offeres a convenient means to parallelize the execution of a function across multiple input values\n",
    "\n",
    "\n",
    "Reference: https://hackernoon.com/parallelism-and-concurrency-in-python-concept-code-3w75430wo"
   ]
  },
  {
   "cell_type": "code",
   "execution_count": 2,
   "metadata": {},
   "outputs": [
    {
     "name": "stdout",
     "output_type": "stream",
     "text": [
      "Full time taken:  15.325034856796265  seconds\n",
      "4\n",
      "<multiprocessing.pool.IMapIterator object at 0x0000027BD7C74408>\n",
      "Full time taken:  0.31531214714050293  seconds\n"
     ]
    }
   ],
   "source": [
    "import multiprocessing\n",
    "import os\n",
    "import time\n",
    "import numpy as np\n",
    "\n",
    "def DotProduct(A):\n",
    "    dot_product = np.dot(A[0],A[1])\n",
    "    return\n",
    "\n",
    "List = [[np.arange(1000000).reshape(5000,200),np.arange(1000000).reshape(200,5000)],\n",
    "        [np.arange(1000000).reshape(500,2000),np.arange(1000000).reshape(2000,500)],\n",
    "        [np.arange(1000000).reshape(5000,200),np.arange(1000000).reshape(200,5000)]]\n",
    "\n",
    "if __name__ == \"__main__\":\n",
    "    #executing a code without multiprocessing .. ie. on a single core\n",
    "    start = time.time()\n",
    "    B = list(map(DotProduct,List))\n",
    "    end = time.time() - start\n",
    "    print(\"Full time taken: \",end,\" seconds\")\n",
    "    \n",
    "    #With multiprocessing module on multiple cores (#the current system on which this code is running has 2 cores)\n",
    "    start = time.time()\n",
    "    pool = multiprocessing.cpu_count()\n",
    "    print(pool)\n",
    "    with multiprocessing.Pool(pool) as p:\n",
    "        print(p.imap(DotProduct,List))\n",
    "    end = time.time() - start\n",
    "    print(\"Full time taken: \",end,\" seconds\")"
   ]
  },
  {
   "cell_type": "markdown",
   "metadata": {},
   "source": [
    "Multiprocessing tends to take longer in Windows. The reason for this is explained here: https://stackoverflow.com/questions/52465237/multiprocessing-slower-than-serial-processing-in-windows-but-not-in-linux\n",
    "\n",
    "It turns out the using p.imap instead of p.map tends to run faster on windows. The imap is a lazier version of map(). map() on the other hand, will block till complete. \n",
    "Read more here: https://docs.python.org/3/library/multiprocessing.html?highlight=process#the-spawn-and-forkserver-start-methods\n",
    "\n",
    "There are other libraries such as Ray(https://github.com/ray-project/ray) that provide other effecient ways of multiprocessing. \n"
   ]
  },
  {
   "cell_type": "markdown",
   "metadata": {},
   "source": [
    "Concurrency: Refers to performing multiple tasks at same time but in overlapping or different or same order. \n",
    "\n",
    "Multithreading: Running different/multiple threads to perform tasks on a single processor. Multithreading is really good at performing IO bound tasks (like - Sending multiple request to servers concurrently). Every new thread created will have a PID (process ID) and it will have a start function. join() function of the thread can be used, if we want to run loc after thread finishes its job. Python has a very complicated relationshop with its GIL and the output of the code varies a lot.\n",
    "\n",
    "Async IO: is a single threaded- single process design paradigm that manages to achieve concurrency (More details to follow)\n",
    "\n",
    "Note: A program running in parallel will be called as concurrent but the reverse in not true. "
   ]
  },
  {
   "cell_type": "code",
   "execution_count": 5,
   "metadata": {},
   "outputs": [
    {
     "name": "stdout",
     "output_type": "stream",
     "text": [
      "square of 5 is  25\n",
      "cube of 5 is  125\n",
      "5 raise to power 2 is  25\n",
      "sum of first 5 numbers is 15.0\n",
      "Mid time taken:  0.000993967056274414  seconds\n",
      "Full time taken:  7.3741419315338135  seconds\n",
      "square of 5 is  25\n",
      "cube of 5 is  125\n",
      "5 raise to power 2 is  25\n",
      "sum of first 5 numbers is 15.0\n",
      "Mid time taken:  0.003990888595581055  seconds\n",
      "Full time taken:  7.333523988723755  seconds\n"
     ]
    }
   ],
   "source": [
    "import threading\n",
    "import os\n",
    "import time\n",
    "import numpy as np\n",
    "\n",
    "def BasicOperation():\n",
    "    #square of a number\n",
    "    def square(number):\n",
    "        return number*number\n",
    "    #cube of a number\n",
    "    def cube(number):\n",
    "        return number**3\n",
    "    #nth power of a number\n",
    "    def nth_power(number,power):\n",
    "        return number**power\n",
    "    #sum of num number\n",
    "    def sum_of_n_numbers(number):\n",
    "        return number*(number+1)/2\n",
    "    \n",
    "    #using functions to drive a program\n",
    "    \n",
    "    print(\"square of 5 is \" , square(5))\n",
    "    print(\"cube of 5 is \" , cube(5))\n",
    "    print(\"5 raise to power 2 is \" , nth_power(5,2))\n",
    "    print(\"sum of first 5 numbers is\" , sum_of_n_numbers(5))\n",
    "    \n",
    "def DotProduct():\n",
    "    A = np.arange(1000000).reshape(5000,200)\n",
    "    B = np.arange(1000000).reshape(200,5000)\n",
    "    Dot = np.dot(A,B)\n",
    "    \n",
    "\n",
    "if __name__ == \"__main__\":\n",
    "    \n",
    "    #without threading\n",
    "    start = time.time()\n",
    "    BasicOperation()\n",
    "    Mid = time.time() - start\n",
    "    print(\"Mid time taken: \", Mid ,\" seconds\")\n",
    "    DotProduct()\n",
    "    end = time.time() - start\n",
    "    print(\"Full time taken: \", end ,\" seconds\")\n",
    "    \n",
    "    #with threading\n",
    "    start = time.time()\n",
    "    Thread_1 = threading.Thread(target = BasicOperation, name = ' Basic Operation Thread ')\n",
    "    Thread_2 = threading.Thread(target = DotProduct, name = ' Dot Product Thread')\n",
    "    Thread_1.start()\n",
    "    Thread_2.start()\n",
    "    Thread_1.join()\n",
    "    Mid = time.time() - start\n",
    "    print(\"Mid time taken: \", Mid ,\" seconds\")\n",
    "    Thread_2.join()\n",
    "    end = time.time() - start\n",
    "    print(\"Full time taken: \", end ,\" seconds\")"
   ]
  },
  {
   "cell_type": "markdown",
   "metadata": {},
   "source": [
    "TODO:\n",
    "https://stackoverflow.com/questions/4844637/what-is-the-difference-between-concurrency-parallelism-and-asynchronous-methods\n",
    "\n",
    "https://medium.com/swift-india/concurrency-parallelism-threads-processes-async-and-sync-related-39fd951bc61d\n",
    "\n",
    "Async IO : https://realpython.com/async-io-python/\n",
    "https://realpython.com/python-concurrency/\n"
   ]
  }
 ],
 "metadata": {
  "kernelspec": {
   "display_name": "Python 3",
   "language": "python",
   "name": "python3"
  },
  "language_info": {
   "codemirror_mode": {
    "name": "ipython",
    "version": 3
   },
   "file_extension": ".py",
   "mimetype": "text/x-python",
   "name": "python",
   "nbconvert_exporter": "python",
   "pygments_lexer": "ipython3",
   "version": "3.7.4"
  }
 },
 "nbformat": 4,
 "nbformat_minor": 2
}
