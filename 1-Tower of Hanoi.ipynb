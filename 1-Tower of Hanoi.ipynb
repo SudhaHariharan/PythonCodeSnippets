{
 "cells": [
  {
   "cell_type": "markdown",
   "metadata": {},
   "source": [
    "Implementation for 3 pegs"
   ]
  },
  {
   "cell_type": "code",
   "execution_count": 10,
   "metadata": {},
   "outputs": [],
   "source": [
    "def hanoi(disks, start,destination,intermediate ):\n",
    "    if disks == 1:\n",
    "        print('Move disk 1 from peg {} to peg {}.'.format(start, destination))\n",
    "        return\n",
    "    \n",
    "    hanoi(disks-1,start,intermediate,destination)\n",
    "    print('Move disk {} from peg {} to peg {}.'.format(disks,start, destination))\n",
    "    hanoi(disks-1,intermediate, start, destination)"
   ]
  },
  {
   "cell_type": "code",
   "execution_count": 12,
   "metadata": {},
   "outputs": [
    {
     "name": "stdout",
     "output_type": "stream",
     "text": [
      "Move disk 1 from peg a to peg b.\n",
      "Move disk 2 from peg a to peg c.\n",
      "Move disk 1 from peg b to peg a.\n",
      "Move disk 3 from peg a to peg b.\n",
      "Move disk 1 from peg c to peg b.\n",
      "Move disk 2 from peg c to peg a.\n",
      "Move disk 1 from peg b to peg c.\n"
     ]
    }
   ],
   "source": [
    "hanoi(3,'a','b','c')"
   ]
  },
  {
   "cell_type": "markdown",
   "metadata": {},
   "source": [
    "Generalised implementation"
   ]
  },
  {
   "cell_type": "code",
   "execution_count": null,
   "metadata": {},
   "outputs": [],
   "source": []
  }
 ],
 "metadata": {
  "kernelspec": {
   "display_name": "Python 3",
   "language": "python",
   "name": "python3"
  },
  "language_info": {
   "codemirror_mode": {
    "name": "ipython",
    "version": 3
   },
   "file_extension": ".py",
   "mimetype": "text/x-python",
   "name": "python",
   "nbconvert_exporter": "python",
   "pygments_lexer": "ipython3",
   "version": "3.6.4"
  }
 },
 "nbformat": 4,
 "nbformat_minor": 2
}
