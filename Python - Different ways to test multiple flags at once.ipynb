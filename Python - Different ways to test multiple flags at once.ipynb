{
 "cells": [
  {
   "cell_type": "code",
   "execution_count": 1,
   "metadata": {},
   "outputs": [
    {
     "name": "stdout",
     "output_type": "stream",
     "text": [
      "passed\n",
      "passed\n",
      "passed\n",
      "passed\n"
     ]
    }
   ],
   "source": [
    "#Different ways to test multiple flags at once\n",
    "\n",
    "x,y,z = 0,1,0\n",
    "\n",
    "if x == 1 or y == 1 or z == 1:\n",
    "    print('passed')\n",
    "\n",
    "if 1 in (x, y, z):\n",
    "    print('passed')\n",
    "\n",
    "# These only test for truthiness:\n",
    "if x or y or z:\n",
    "    print('passed')\n",
    "\n",
    "if any((x, y, z)):\n",
    "    print('passed')"
   ]
  },
  {
   "cell_type": "markdown",
   "metadata": {},
   "source": [
    "Source:\n",
    "Pytricks by Dan Bader"
   ]
  }
 ],
 "metadata": {
  "kernelspec": {
   "display_name": "Python 3",
   "language": "python",
   "name": "python3"
  },
  "language_info": {
   "codemirror_mode": {
    "name": "ipython",
    "version": 3
   },
   "file_extension": ".py",
   "mimetype": "text/x-python",
   "name": "python",
   "nbconvert_exporter": "python",
   "pygments_lexer": "ipython3",
   "version": "3.7.4"
  }
 },
 "nbformat": 4,
 "nbformat_minor": 2
}
