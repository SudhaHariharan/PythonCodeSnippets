{
 "cells": [
  {
   "cell_type": "markdown",
   "metadata": {},
   "source": [
    "Benford's law, also called the first-digit law, refers to the frequency distribution of digits in many (but not all) real-life sources of data.\n",
    "\n",
    "In this distribution, the number 1 occurs as the first digit about 30% of the time, while larger numbers occur in that position less frequently: 9 as the first digit less than 5% of the time. This distribution of first digits is the same as the widths of gridlines on a logarithmic scale.\n",
    "\n",
    "Benford's law also concerns the expected distribution for digits beyond the first, which approach a uniform distribution.\n",
    "\n",
    "This result has been found to apply to a wide variety of data sets, including electricity bills, street addresses, stock prices, population numbers, death rates, lengths of rivers, physical and mathematical constants, and processes described by power laws (which are very common in nature). It tends to be most accurate when values are distributed across multiple orders of magnitude.\n",
    "\n",
    "A set of numbers is said to satisfy Benford's law if the leading digit {\\displaystyle d}   ( {\\displaystyle d\\in \\{1,\\ldots ,9\\}} ) occurs with probability\n",
    "\n",
    "{\\displaystyle P(d)=\\log _{10}(d+1)-\\log _{10}(d)=\\log _{10}\\left(1+{\\frac {1}{d}}\\right)}\n",
    "For this task, write (a) routine(s) to calculate the distribution of first significant (non-zero) digits in a collection of numbers, then display the actual vs. expected distribution in the way most convenient for your language (table / graph / histogram / whatever).\n",
    "\n",
    "Use the first 1000 numbers from the Fibonacci sequence as your data set. No need to show how the Fibonacci numbers are obtained.\n",
    "\n",
    "Display your actual vs expected distribution.\n"
   ]
  },
  {
   "cell_type": "code",
   "execution_count": 2,
   "metadata": {},
   "outputs": [],
   "source": [
    "from __future__ import division\n",
    "from itertools import islice,count\n",
    "from collections import Counter\n",
    "from math import log10\n",
    "from random import randint"
   ]
  },
  {
   "cell_type": "code",
   "execution_count": 3,
   "metadata": {},
   "outputs": [
    {
     "name": "stdout",
     "output_type": "stream",
     "text": [
      "\n",
      "fibbed Benfords deviation\n",
      " 30.1%  30.1%    0.0%\n",
      " 17.7%  17.6%    0.1%\n",
      " 12.5%  12.5%    0.0%\n",
      "  9.6%   9.7%    0.1%\n",
      "  8.0%   7.9%    0.1%\n",
      "  6.7%   6.7%    0.0%\n",
      "  5.6%   5.8%    0.2%\n",
      "  5.3%   5.1%    0.2%\n",
      "  4.5%   4.6%    0.1%\n",
      "\n",
      "threes Benfords deviation\n",
      " 30.0%  30.1%    0.1%\n",
      " 17.7%  17.6%    0.1%\n",
      " 12.3%  12.5%    0.2%\n",
      "  9.8%   9.7%    0.1%\n",
      "  7.9%   7.9%    0.0%\n",
      "  6.6%   6.7%    0.1%\n",
      "  5.9%   5.8%    0.1%\n",
      "  5.2%   5.1%    0.1%\n",
      "  4.6%   4.6%    0.0%\n",
      "\n",
      "random Benfords deviation\n",
      " 10.8%  30.1%   19.3%\n",
      " 11.1%  17.6%    6.5%\n",
      " 11.7%  12.5%    0.8%\n",
      " 11.5%   9.7%    1.8%\n",
      " 10.5%   7.9%    2.6%\n",
      " 10.7%   6.7%    4.0%\n",
      " 11.0%   5.8%    5.2%\n",
      " 11.2%   5.1%    6.1%\n",
      " 11.3%   4.6%    6.8%\n"
     ]
    }
   ],
   "source": [
    "expected = [log10(1+1/d) for d in range(1,10)]\n",
    " \n",
    "def fib():\n",
    "    a,b = 1,1\n",
    "    while True:\n",
    "        yield a\n",
    "        a,b = b,a+b\n",
    " \n",
    "# powers of 3 as a test sequence\n",
    "def power_of_threes():\n",
    "    return (3**k for k in count(0))\n",
    " \n",
    "def heads(s):\n",
    "    for a in s: yield int(str(a)[0])\n",
    " \n",
    "def show_dist(title, s):\n",
    "    c = Counter(s)\n",
    "    size = sum(c.values())\n",
    "    res = [c[d]/size for d in range(1,10)]\n",
    " \n",
    "    print(\"\\n%s Benfords deviation\" % title)\n",
    "    for r, e in zip(res, expected):\n",
    "        print(\"%5.1f%% %5.1f%%  %5.1f%%\" % (r*100., e*100., abs(r - e)*100.))\n",
    " \n",
    "def rand1000():\n",
    "    while True: yield randint(1,9999)\n",
    " \n",
    "if __name__ == '__main__':\n",
    "    show_dist(\"fibbed\", islice(heads(fib()), 1000))\n",
    "    show_dist(\"threes\", islice(heads(power_of_threes()), 1000))\n",
    " \n",
    "    # just to show that not all kind-of-random sets behave like that\n",
    "    show_dist(\"random\", islice(heads(rand1000()), 10000))"
   ]
  },
  {
   "cell_type": "code",
   "execution_count": null,
   "metadata": {},
   "outputs": [],
   "source": []
  }
 ],
 "metadata": {
  "kernelspec": {
   "display_name": "Python 3",
   "language": "python",
   "name": "python3"
  },
  "language_info": {
   "codemirror_mode": {
    "name": "ipython",
    "version": 3
   },
   "file_extension": ".py",
   "mimetype": "text/x-python",
   "name": "python",
   "nbconvert_exporter": "python",
   "pygments_lexer": "ipython3",
   "version": "3.6.4"
  }
 },
 "nbformat": 4,
 "nbformat_minor": 2
}
