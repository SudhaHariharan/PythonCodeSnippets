{
 "cells": [
  {
   "cell_type": "markdown",
   "metadata": {},
   "source": [
    "Before understanding the yield keyword, we must understand what generators are. And before generators come iterables.\n",
    "\n",
    "#### Iterables\n",
    "\n",
    "When you create a list, you read its items one by one. Reading its items one by one is called iteration\n"
   ]
  },
  {
   "cell_type": "code",
   "execution_count": 3,
   "metadata": {},
   "outputs": [
    {
     "name": "stdout",
     "output_type": "stream",
     "text": [
      "1\n",
      "2\n",
      "3\n"
     ]
    }
   ],
   "source": [
    "mylist = [1,2,3]\n",
    "for i in mylist:\n",
    "    print(i)"
   ]
  },
  {
   "cell_type": "markdown",
   "metadata": {},
   "source": [
    "mylist is an iterable. When you use list comprehension, you create a list, and so an iterable"
   ]
  },
  {
   "cell_type": "code",
   "execution_count": 4,
   "metadata": {},
   "outputs": [
    {
     "name": "stdout",
     "output_type": "stream",
     "text": [
      "1\n",
      "2\n",
      "3\n"
     ]
    }
   ],
   "source": [
    "mlist = [x*x for x in range(3)]\n",
    "for i in mylist:\n",
    "    print(i)"
   ]
  },
  {
   "cell_type": "markdown",
   "metadata": {},
   "source": [
    "Everything you can use 'for...in...'on is an iterable: list, strings files etc. That is anything that can be 'iterated on'. \n",
    "\n",
    "These iterables are handy because you can read them as much as you wish, but you store all the values in memory and this is not alwys what you want when you have a lot of values.\n",
    "\n",
    "#### Generators\n",
    "\n",
    "Generators are iterators, a kind of iterable you can only iterate over once. Generators do not store all the values in memory, they generate the values on the fly.\n"
   ]
  },
  {
   "cell_type": "code",
   "execution_count": 6,
   "metadata": {},
   "outputs": [
    {
     "name": "stdout",
     "output_type": "stream",
     "text": [
      "0\n",
      "1\n",
      "4\n"
     ]
    }
   ],
   "source": [
    "mygenerator = (x*x for x in range(3))\n",
    "for i in mygenerator:\n",
    "    print(i)\n"
   ]
  },
  {
   "cell_type": "markdown",
   "metadata": {},
   "source": [
    "It is just the same except you used () instead of []. BUT, you cannot perform for i in mygenerator a second time since generators can only be used once: they calculate 0, then forget about it and calculate 1, and end calculating 4, one by one\n",
    "\n",
    "#### Yield\n",
    "\n",
    "Yield is a keyword that is used like return, except the function will return a generator. "
   ]
  },
  {
   "cell_type": "code",
   "execution_count": 8,
   "metadata": {},
   "outputs": [
    {
     "name": "stdout",
     "output_type": "stream",
     "text": [
      "<generator object createGenerator at 0x0000029AEC016410>\n",
      "0\n",
      "1\n",
      "4\n"
     ]
    }
   ],
   "source": [
    "def createGenerator():\n",
    "    mylist = range(3)\n",
    "    for i in mylist:\n",
    "        yield i*i\n",
    "\n",
    "mygenerator = createGenerator() # create a generator\n",
    "print(mygenerator) # generator is an object\n",
    "\n",
    "for i in mygenerator:\n",
    "    print(i)\n",
    "    "
   ]
  },
  {
   "cell_type": "markdown",
   "metadata": {},
   "source": [
    "Here it's a useless example, but it's handy when you know your function will return a huge set of values that you will only need to read once.\n",
    "\n",
    "To master yield, you must understand that when you call the function, the code you have written in the function body does not run. The function only returns the generator object, this is a bit tricky :-)\n",
    "\n",
    "Then, your code will continue from where it left off each time for uses the generator.\n",
    "\n",
    "Now the hard part:\n",
    "\n",
    "The first time the for calls the generator object created from your function, it will run the code in your function from the beginning until it hits yield, then it'll return the first value of the loop. Then, each other call will run the loop you have written in the function one more time, and return the next value, until there is no value to return.\n",
    "\n",
    "The generator is considered empty once the function runs, but does not hit yield anymore. It can be because the loop had come to an end, or because you do not satisfy an \"if/else\" anymore.\n",
    "\n",
    "The yield keyword is reduced to two simple facts:\n",
    "\n",
    "1. If the compiler detects the yield keyword anywhere inside a function, that function no longer returns via the return statement. Instead, it immediately returns a lazy \"pending list\" object called a generator\n",
    "2. A generator is iterable. What is an iterable? It's anything like a list or set or range or dict-view, with a built-in protocol for visiting each element in a certain order.\n",
    "\n",
    "In a nutshell: a generator is a lazy, incrementally-pending list, and yield statements allow you to use function notation to program the list values the generator should incrementally spit out."
   ]
  },
  {
   "cell_type": "markdown",
   "metadata": {},
   "source": [
    "##### Example\n",
    "\n",
    "Consider this example of classic fibbonaci.\n",
    "\n",
    "we pass a limit and it will compute all the fibonaci numbers upto that limit\n"
   ]
  },
  {
   "cell_type": "code",
   "execution_count": 10,
   "metadata": {},
   "outputs": [],
   "source": [
    "def classic_fibonacci(limit):\n",
    "    nums = []\n",
    "    current, nxt=0, 1\n",
    "    while current < limit:\n",
    "        current, nxt = nxt, nxt+current\n",
    "        nums.append(current)\n",
    "        \n",
    "    return nums"
   ]
  },
  {
   "cell_type": "code",
   "execution_count": 25,
   "metadata": {},
   "outputs": [],
   "source": [
    "def generator_fibonacci():\n",
    "    current, nxt=0, 1\n",
    "    \n",
    "    while True:\n",
    "        current, nxt = nxt, nxt+current\n",
    "        yield current\n",
    "        \n",
    "#generaotrs are composible\n",
    "def even_genertor(numbers):\n",
    "    for n in numbers:\n",
    "        if n % 2 == 0:\n",
    "            yield n\n",
    "\n",
    "##consume both generators as a pipeline here\n",
    "def even_fib():\n",
    "    for n in even_genertor(generator_fibonacci()):\n",
    "        yield n\n",
    "        "
   ]
  },
  {
   "cell_type": "code",
   "execution_count": 28,
   "metadata": {},
   "outputs": [
    {
     "name": "stdout",
     "output_type": "stream",
     "text": [
      "Classic\n",
      "1, 1, 2, 3, 5, 8, 13, 21, 34, 55, 89, 144, \n",
      "generator\n",
      "1, 1, 2, 3, 5, 8, 13, 21, 34, 55, 89, 144, \n",
      "composed\n",
      "2, 8, 34, 144, 610, 2584, 10946, 46368, 196418, 832040, 3524578, \n"
     ]
    }
   ],
   "source": [
    "if __name__ == '__main__':\n",
    "    print(\"Classic\")\n",
    "    for m in classic_fibonacci(100):\n",
    "        print(m,end=', ')\n",
    "    print()\n",
    "    \n",
    "    print(\"generator\")\n",
    "    for m in generator_fibonacci():\n",
    "        print(m,end=', ')\n",
    "        if m >100:\n",
    "            break\n",
    "    print()\n",
    "    print(\"composed\")\n",
    "    for m in even_fib():\n",
    "        print(m,end=', ')\n",
    "        if m >1000000:\n",
    "            break\n",
    "    print()"
   ]
  },
  {
   "cell_type": "markdown",
   "metadata": {},
   "source": [
    "The list nums[] is where the function does all the work and stores the numbers. what if you need the first million fibonaci..how long will the function takes? what if you need to look for number satisify some property? what will be the memory consumption \n",
    "\n",
    "This can be done with an on-demand high performance way"
   ]
  }
 ],
 "metadata": {
  "kernelspec": {
   "display_name": "Python 3",
   "language": "python",
   "name": "python3"
  },
  "language_info": {
   "codemirror_mode": {
    "name": "ipython",
    "version": 3
   },
   "file_extension": ".py",
   "mimetype": "text/x-python",
   "name": "python",
   "nbconvert_exporter": "python",
   "pygments_lexer": "ipython3",
   "version": "3.6.4"
  }
 },
 "nbformat": 4,
 "nbformat_minor": 2
}
